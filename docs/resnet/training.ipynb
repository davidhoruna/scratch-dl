{
 "cells": [
  {
   "cell_type": "markdown",
   "id": "49be5fa7",
   "metadata": {},
   "source": [
    "We are going to train our ResNet with a Pokemon Dataset using our modular library"
   ]
  },
  {
   "cell_type": "code",
   "execution_count": 1,
   "id": "0c62a638",
   "metadata": {},
   "outputs": [],
   "source": [
    "from scratch_dl.vision.train_vision import train \n",
    "from scratch_dl.vision.configs.schemas import ResNetConfig, BaseConfig\n",
    "\n",
    "cfg=ResNetConfig()\n",
    "cfg.project = \"PokeClassifier\"\n",
    "cfg.folder_structure=\"ImageFolder\"\n",
    "cfg.folder_name=\"PokemonData\"\n",
    "cfg.epochs = 20\n"
   ]
  },
  {
   "cell_type": "code",
   "execution_count": 2,
   "id": "bfd5ef51",
   "metadata": {},
   "outputs": [
    {
     "name": "stderr",
     "output_type": "stream",
     "text": [
      "2025-07-12 12:23:12,886 - train - INFO - Using device: cuda\n",
      "\u001b[34m\u001b[1mwandb\u001b[0m: Currently logged in as: \u001b[33md-huamanor\u001b[0m (\u001b[33md-huamanor-universidad-pacifico\u001b[0m) to \u001b[32mhttps://api.wandb.ai\u001b[0m. Use \u001b[1m`wandb login --relogin`\u001b[0m to force relogin\n"
     ]
    },
    {
     "data": {
      "text/html": [
       "Tracking run with wandb version 0.21.0"
      ],
      "text/plain": [
       "<IPython.core.display.HTML object>"
      ]
     },
     "metadata": {},
     "output_type": "display_data"
    },
    {
     "data": {
      "text/html": [
       "Run data is saved locally in <code>/home/lenovo/Escritorio/repos/scratch_dl/docs/resnet/wandb/run-20250712_122313-4mdjgzgh</code>"
      ],
      "text/plain": [
       "<IPython.core.display.HTML object>"
      ]
     },
     "metadata": {},
     "output_type": "display_data"
    },
    {
     "data": {
      "text/html": [
       "Syncing run <strong><a href='https://wandb.ai/d-huamanor-universidad-pacifico/PokeClassifier/runs/4mdjgzgh' target=\"_blank\">laced-aardvark-3</a></strong> to <a href='https://wandb.ai/d-huamanor-universidad-pacifico/PokeClassifier' target=\"_blank\">Weights & Biases</a> (<a href='https://wandb.me/developer-guide' target=\"_blank\">docs</a>)<br>"
      ],
      "text/plain": [
       "<IPython.core.display.HTML object>"
      ]
     },
     "metadata": {},
     "output_type": "display_data"
    },
    {
     "data": {
      "text/html": [
       " View project at <a href='https://wandb.ai/d-huamanor-universidad-pacifico/PokeClassifier' target=\"_blank\">https://wandb.ai/d-huamanor-universidad-pacifico/PokeClassifier</a>"
      ],
      "text/plain": [
       "<IPython.core.display.HTML object>"
      ]
     },
     "metadata": {},
     "output_type": "display_data"
    },
    {
     "data": {
      "text/html": [
       " View run at <a href='https://wandb.ai/d-huamanor-universidad-pacifico/PokeClassifier/runs/4mdjgzgh' target=\"_blank\">https://wandb.ai/d-huamanor-universidad-pacifico/PokeClassifier/runs/4mdjgzgh</a>"
      ],
      "text/plain": [
       "<IPython.core.display.HTML object>"
      ]
     },
     "metadata": {},
     "output_type": "display_data"
    },
    {
     "name": "stderr",
     "output_type": "stream",
     "text": [
      "Epoch 1/20: 100%|██████████| 192/192 [00:46<00:00,  4.14it/s, loss=4.17]\n",
      "2025-07-12 12:24:00,898 - train - INFO - Epoch 1 training loss: 4.7465, training accuracy: 0.0362\n",
      "2025-07-12 12:24:03,070 - train - INFO - Validation loss after epoch 1: 4.3698, validation accuracy: 0.0660\n",
      "2025-07-12 12:24:03,118 - train - INFO - Saved checkpoint: /home/lenovo/Escritorio/repos/scratch_dl/checkpoints/vision-training/resnet_epoch1.pth\n",
      "Epoch 2/20: 100%|██████████| 192/192 [00:46<00:00,  4.14it/s, loss=3.79]\n",
      "2025-07-12 12:24:49,459 - train - INFO - Epoch 2 training loss: 4.1253, training accuracy: 0.1044\n",
      "2025-07-12 12:24:51,747 - train - INFO - Validation loss after epoch 2: 3.9557, validation accuracy: 0.1246\n",
      "2025-07-12 12:24:51,808 - train - INFO - Saved checkpoint: /home/lenovo/Escritorio/repos/scratch_dl/checkpoints/vision-training/resnet_epoch2.pth\n",
      "Epoch 3/20: 100%|██████████| 192/192 [00:46<00:00,  4.11it/s, loss=3.47]\n",
      "2025-07-12 12:25:38,522 - train - INFO - Epoch 3 training loss: 3.8223, training accuracy: 0.1443\n",
      "2025-07-12 12:25:40,852 - train - INFO - Validation loss after epoch 3: 3.7576, validation accuracy: 0.1261\n",
      "2025-07-12 12:25:40,898 - train - INFO - Saved checkpoint: /home/lenovo/Escritorio/repos/scratch_dl/checkpoints/vision-training/resnet_epoch3.pth\n",
      "Epoch 4/20: 100%|██████████| 192/192 [00:46<00:00,  4.09it/s, loss=3.77]\n",
      "2025-07-12 12:26:27,856 - train - INFO - Epoch 4 training loss: 3.6241, training accuracy: 0.1738\n",
      "2025-07-12 12:26:30,086 - train - INFO - Validation loss after epoch 4: 3.5835, validation accuracy: 0.1628\n",
      "2025-07-12 12:26:30,129 - train - INFO - Saved checkpoint: /home/lenovo/Escritorio/repos/scratch_dl/checkpoints/vision-training/resnet_epoch4.pth\n",
      "Epoch 5/20: 100%|██████████| 192/192 [00:47<00:00,  4.08it/s, loss=3.47]\n",
      "2025-07-12 12:27:17,187 - train - INFO - Epoch 5 training loss: 3.4565, training accuracy: 0.2097\n",
      "2025-07-12 12:27:19,407 - train - INFO - Validation loss after epoch 5: 3.4243, validation accuracy: 0.1804\n",
      "2025-07-12 12:27:19,459 - train - INFO - Saved checkpoint: /home/lenovo/Escritorio/repos/scratch_dl/checkpoints/vision-training/resnet_epoch5.pth\n",
      "Epoch 6/20: 100%|██████████| 192/192 [00:47<00:00,  4.07it/s, loss=3.15]\n",
      "2025-07-12 12:28:06,588 - train - INFO - Epoch 6 training loss: 3.3183, training accuracy: 0.2366\n",
      "2025-07-12 12:28:08,945 - train - INFO - Validation loss after epoch 6: 3.3312, validation accuracy: 0.2053\n",
      "2025-07-12 12:28:08,988 - train - INFO - Saved checkpoint: /home/lenovo/Escritorio/repos/scratch_dl/checkpoints/vision-training/resnet_epoch6.pth\n",
      "Epoch 7/20: 100%|██████████| 192/192 [00:47<00:00,  4.07it/s, loss=3.07]\n",
      "2025-07-12 12:28:56,211 - train - INFO - Epoch 7 training loss: 3.2005, training accuracy: 0.2638\n",
      "2025-07-12 12:28:58,509 - train - INFO - Validation loss after epoch 7: 3.1843, validation accuracy: 0.2243\n",
      "2025-07-12 12:28:58,551 - train - INFO - Saved checkpoint: /home/lenovo/Escritorio/repos/scratch_dl/checkpoints/vision-training/resnet_epoch7.pth\n",
      "Epoch 8/20: 100%|██████████| 192/192 [00:47<00:00,  4.08it/s, loss=3.32]\n",
      "2025-07-12 12:29:45,648 - train - INFO - Epoch 8 training loss: 3.0960, training accuracy: 0.2805\n",
      "2025-07-12 12:29:47,823 - train - INFO - Validation loss after epoch 8: 3.1381, validation accuracy: 0.2273\n",
      "2025-07-12 12:29:47,865 - train - INFO - Saved checkpoint: /home/lenovo/Escritorio/repos/scratch_dl/checkpoints/vision-training/resnet_epoch8.pth\n",
      "Epoch 9/20: 100%|██████████| 192/192 [00:47<00:00,  4.05it/s, loss=2.83]\n",
      "2025-07-12 12:30:35,296 - train - INFO - Epoch 9 training loss: 2.9658, training accuracy: 0.3242\n",
      "2025-07-12 12:30:37,570 - train - INFO - Validation loss after epoch 9: 3.0273, validation accuracy: 0.2654\n",
      "2025-07-12 12:30:37,613 - train - INFO - Saved checkpoint: /home/lenovo/Escritorio/repos/scratch_dl/checkpoints/vision-training/resnet_epoch9.pth\n",
      "Epoch 10/20: 100%|██████████| 192/192 [00:47<00:00,  4.05it/s, loss=3.09]\n",
      "2025-07-12 12:31:25,040 - train - INFO - Epoch 10 training loss: 2.8569, training accuracy: 0.3399\n",
      "2025-07-12 12:31:27,273 - train - INFO - Validation loss after epoch 10: 2.9397, validation accuracy: 0.2962\n",
      "2025-07-12 12:31:27,314 - train - INFO - Saved checkpoint: /home/lenovo/Escritorio/repos/scratch_dl/checkpoints/vision-training/resnet_epoch10.pth\n",
      "Epoch 11/20: 100%|██████████| 192/192 [00:47<00:00,  4.05it/s, loss=3.19]\n",
      "2025-07-12 12:32:14,676 - train - INFO - Epoch 11 training loss: 2.7727, training accuracy: 0.3500\n",
      "2025-07-12 12:32:16,924 - train - INFO - Validation loss after epoch 11: 2.8416, validation accuracy: 0.3152\n",
      "2025-07-12 12:32:16,980 - train - INFO - Saved checkpoint: /home/lenovo/Escritorio/repos/scratch_dl/checkpoints/vision-training/resnet_epoch11.pth\n",
      "Epoch 12/20: 100%|██████████| 192/192 [00:47<00:00,  4.05it/s, loss=2.51]\n",
      "2025-07-12 12:33:04,363 - train - INFO - Epoch 12 training loss: 2.6755, training accuracy: 0.3861\n",
      "2025-07-12 12:33:06,571 - train - INFO - Validation loss after epoch 12: 2.7172, validation accuracy: 0.3475\n",
      "2025-07-12 12:33:06,613 - train - INFO - Saved checkpoint: /home/lenovo/Escritorio/repos/scratch_dl/checkpoints/vision-training/resnet_epoch12.pth\n",
      "Epoch 13/20: 100%|██████████| 192/192 [00:47<00:00,  4.05it/s, loss=2.76]\n",
      "2025-07-12 12:33:54,008 - train - INFO - Epoch 13 training loss: 2.5751, training accuracy: 0.4089\n",
      "2025-07-12 12:33:56,258 - train - INFO - Validation loss after epoch 13: 2.6559, validation accuracy: 0.3636\n",
      "2025-07-12 12:33:56,301 - train - INFO - Saved checkpoint: /home/lenovo/Escritorio/repos/scratch_dl/checkpoints/vision-training/resnet_epoch13.pth\n",
      "Epoch 14/20: 100%|██████████| 192/192 [00:47<00:00,  4.03it/s, loss=2.18]\n",
      "2025-07-12 12:34:44,000 - train - INFO - Epoch 14 training loss: 2.5157, training accuracy: 0.4236\n",
      "2025-07-12 12:34:46,223 - train - INFO - Validation loss after epoch 14: 2.6240, validation accuracy: 0.3563\n",
      "2025-07-12 12:34:46,266 - train - INFO - Saved checkpoint: /home/lenovo/Escritorio/repos/scratch_dl/checkpoints/vision-training/resnet_epoch14.pth\n",
      "Epoch 15/20: 100%|██████████| 192/192 [00:47<00:00,  4.05it/s, loss=2.59]\n",
      "2025-07-12 12:35:33,691 - train - INFO - Epoch 15 training loss: 2.4269, training accuracy: 0.4400\n",
      "2025-07-12 12:35:35,833 - train - INFO - Validation loss after epoch 15: 2.5457, validation accuracy: 0.3695\n",
      "2025-07-12 12:35:35,875 - train - INFO - Saved checkpoint: /home/lenovo/Escritorio/repos/scratch_dl/checkpoints/vision-training/resnet_epoch15.pth\n",
      "Epoch 16/20: 100%|██████████| 192/192 [00:47<00:00,  4.04it/s, loss=2.33]\n",
      "2025-07-12 12:36:23,394 - train - INFO - Epoch 16 training loss: 2.3570, training accuracy: 0.4650\n",
      "2025-07-12 12:36:25,595 - train - INFO - Validation loss after epoch 16: 2.4698, validation accuracy: 0.3974\n",
      "2025-07-12 12:36:25,637 - train - INFO - Saved checkpoint: /home/lenovo/Escritorio/repos/scratch_dl/checkpoints/vision-training/resnet_epoch16.pth\n",
      "Epoch 17/20: 100%|██████████| 192/192 [00:47<00:00,  4.04it/s, loss=2.41]\n",
      "2025-07-12 12:37:13,139 - train - INFO - Epoch 17 training loss: 2.3012, training accuracy: 0.4749\n",
      "2025-07-12 12:37:15,386 - train - INFO - Validation loss after epoch 17: 2.4530, validation accuracy: 0.3974\n",
      "2025-07-12 12:37:15,428 - train - INFO - Saved checkpoint: /home/lenovo/Escritorio/repos/scratch_dl/checkpoints/vision-training/resnet_epoch17.pth\n",
      "Epoch 18/20: 100%|██████████| 192/192 [00:47<00:00,  4.04it/s, loss=2.2] \n",
      "2025-07-12 12:38:02,950 - train - INFO - Epoch 18 training loss: 2.2284, training accuracy: 0.4873\n",
      "2025-07-12 12:38:05,156 - train - INFO - Validation loss after epoch 18: 2.3467, validation accuracy: 0.4106\n",
      "2025-07-12 12:38:05,199 - train - INFO - Saved checkpoint: /home/lenovo/Escritorio/repos/scratch_dl/checkpoints/vision-training/resnet_epoch18.pth\n",
      "Epoch 19/20: 100%|██████████| 192/192 [00:47<00:00,  4.04it/s, loss=1.88]\n",
      "2025-07-12 12:38:52,748 - train - INFO - Epoch 19 training loss: 2.1816, training accuracy: 0.4977\n",
      "2025-07-12 12:38:54,936 - train - INFO - Validation loss after epoch 19: 2.3105, validation accuracy: 0.4501\n",
      "2025-07-12 12:38:54,978 - train - INFO - Saved checkpoint: /home/lenovo/Escritorio/repos/scratch_dl/checkpoints/vision-training/resnet_epoch19.pth\n",
      "Epoch 20/20: 100%|██████████| 192/192 [00:47<00:00,  4.04it/s, loss=2.51]\n",
      "2025-07-12 12:39:42,564 - train - INFO - Epoch 20 training loss: 2.0978, training accuracy: 0.5274\n",
      "2025-07-12 12:39:44,791 - train - INFO - Validation loss after epoch 20: 2.2612, validation accuracy: 0.4619\n",
      "2025-07-12 12:39:44,836 - train - INFO - Saved checkpoint: /home/lenovo/Escritorio/repos/scratch_dl/checkpoints/vision-training/resnet_epoch20.pth\n"
     ]
    }
   ],
   "source": [
    "\n",
    "train(cfg)"
   ]
  },
  {
   "cell_type": "code",
   "execution_count": 4,
   "id": "98523fba",
   "metadata": {},
   "outputs": [],
   "source": [
    "import torch\n",
    "from definitons import ROOT_DIR\n",
    "import os\n",
    "\n",
    "weights = torch.load(os.path.join(ROOT_DIR,\"checkpoints\",cfg.checkpoint_dir, \"resnet_epoch20.pth\"), weights_only=True)"
   ]
  },
  {
   "cell_type": "code",
   "execution_count": 6,
   "id": "08aadf24",
   "metadata": {},
   "outputs": [
    {
     "data": {
      "text/plain": [
       "<All keys matched successfully>"
      ]
     },
     "execution_count": 6,
     "metadata": {},
     "output_type": "execute_result"
    }
   ],
   "source": [
    "from scratch_dl.vision.models.resnet.resnet_model import ResNet\n",
    "\n",
    "cfg = ResNetConfig()\n",
    "cfg.n_classes=150\n",
    "model = ResNet(cfg)\n",
    "model.load_state_dict(weights)"
   ]
  },
  {
   "cell_type": "code",
   "execution_count": 7,
   "id": "cfdbe9b6",
   "metadata": {},
   "outputs": [],
   "source": [
    "from PIL import Image\n",
    "\n",
    "transf = cfg.transforms\n",
    "\n",
    "img = Image.open('dragonite.png')\n",
    "img.convert('RGB')\n",
    "img = transf(img)\n",
    "img = img.unsqueeze(0)\n"
   ]
  },
  {
   "cell_type": "code",
   "execution_count": 9,
   "id": "99578673",
   "metadata": {},
   "outputs": [
    {
     "data": {
      "text/plain": [
       "27"
      ]
     },
     "execution_count": 9,
     "metadata": {},
     "output_type": "execute_result"
    }
   ],
   "source": [
    "model.eval()\n",
    "with torch.no_grad():\n",
    "    out = model(img)\n",
    "probs = torch.softmax(out, dim=1)\n",
    "pred = torch.argmax(probs, dim=1).item()\n",
    "pred"
   ]
  },
  {
   "cell_type": "code",
   "execution_count": 11,
   "id": "743e0983",
   "metadata": {},
   "outputs": [],
   "source": [
    "from torchvision.datasets import ImageFolder\n",
    "ds_path=os.path.join(cfg.ROOT_DIR, 'data', 'PokemonData')\n",
    "ds = ImageFolder(ds_path)\n",
    "\n",
    "classes = {idx: k for k, idx in ds.class_to_idx.items()}"
   ]
  },
  {
   "cell_type": "code",
   "execution_count": 12,
   "id": "f3e3fe16",
   "metadata": {},
   "outputs": [
    {
     "data": {
      "text/plain": [
       "'Dragonite'"
      ]
     },
     "execution_count": 12,
     "metadata": {},
     "output_type": "execute_result"
    }
   ],
   "source": [
    "classes[pred]\n"
   ]
  }
 ],
 "metadata": {
  "kernelspec": {
   "display_name": "base",
   "language": "python",
   "name": "python3"
  },
  "language_info": {
   "codemirror_mode": {
    "name": "ipython",
    "version": 3
   },
   "file_extension": ".py",
   "mimetype": "text/x-python",
   "name": "python",
   "nbconvert_exporter": "python",
   "pygments_lexer": "ipython3",
   "version": "3.12.7"
  }
 },
 "nbformat": 4,
 "nbformat_minor": 5
}
