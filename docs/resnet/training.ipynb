{
 "cells": [
  {
   "cell_type": "markdown",
   "id": "49be5fa7",
   "metadata": {},
   "source": [
    "We are going to train our ResNet with a Pokemon Dataset using our modular library"
   ]
  },
  {
   "cell_type": "code",
   "execution_count": 1,
   "id": "98523fba",
   "metadata": {},
   "outputs": [],
   "source": [
    "import torch\n",
    "from definitons import ROOT_DIR\n",
    "import os\n",
    "\n",
    "weights = torch.load(os.path.join(ROOT_DIR,\"checkpoints\",\"Poke2\",\"_epoch4.pth\"), weights_only=True)"
   ]
  },
  {
   "cell_type": "code",
   "execution_count": 3,
   "id": "0c62a638",
   "metadata": {},
   "outputs": [],
   "source": [
    "from scratch_dl.vision.models.resnet.train import train_resnet \n",
    "from scratch_dl.vision.configs.schemas import ResNetConfig, BaseConfig\n",
    "\n",
    "cfg=ResNetConfig()\n",
    "cfg.project = \"PokeClassifier\"\n",
    "cfg.folder_structure=\"ImageFolder\"\n",
    "cfg.folder_name=\"PokemonData\"\n",
    "cfg.epochs = 20\n"
   ]
  },
  {
   "cell_type": "code",
   "execution_count": null,
   "id": "ebb00938",
   "metadata": {},
   "outputs": [],
   "source": []
  },
  {
   "cell_type": "code",
   "execution_count": 5,
   "id": "08aadf24",
   "metadata": {},
   "outputs": [],
   "source": [
    "from scratch_dl.vision.models.resnet.resnet_50 import ResNet50\n",
    "\n",
    "cfg.n_classes=150\n",
    "model = ResNet50(cfg)"
   ]
  },
  {
   "cell_type": "code",
   "execution_count": 6,
   "id": "5a128806",
   "metadata": {},
   "outputs": [
    {
     "name": "stderr",
     "output_type": "stream",
     "text": [
      "2025-07-13 12:31:40,680 - train - INFO - Using device: cuda\n",
      "\u001b[34m\u001b[1mwandb\u001b[0m: Currently logged in as: \u001b[33md-huamanor\u001b[0m (\u001b[33md-huamanor-universidad-pacifico\u001b[0m) to \u001b[32mhttps://api.wandb.ai\u001b[0m. Use \u001b[1m`wandb login --relogin`\u001b[0m to force relogin\n"
     ]
    },
    {
     "data": {
      "text/html": [
       "Tracking run with wandb version 0.21.0"
      ],
      "text/plain": [
       "<IPython.core.display.HTML object>"
      ]
     },
     "metadata": {},
     "output_type": "display_data"
    },
    {
     "data": {
      "text/html": [
       "Run data is saved locally in <code>/home/lenovo/Escritorio/repos/scratch_dl/wandb/run-20250713_123141-0lqrsa17</code>"
      ],
      "text/plain": [
       "<IPython.core.display.HTML object>"
      ]
     },
     "metadata": {},
     "output_type": "display_data"
    },
    {
     "data": {
      "text/html": [
       "Syncing run <strong><a href='https://wandb.ai/d-huamanor-universidad-pacifico/PokeClassifier/runs/0lqrsa17' target=\"_blank\">sage-serenity-6</a></strong> to <a href='https://wandb.ai/d-huamanor-universidad-pacifico/PokeClassifier' target=\"_blank\">Weights & Biases</a> (<a href='https://wandb.me/developer-guide' target=\"_blank\">docs</a>)<br>"
      ],
      "text/plain": [
       "<IPython.core.display.HTML object>"
      ]
     },
     "metadata": {},
     "output_type": "display_data"
    },
    {
     "data": {
      "text/html": [
       " View project at <a href='https://wandb.ai/d-huamanor-universidad-pacifico/PokeClassifier' target=\"_blank\">https://wandb.ai/d-huamanor-universidad-pacifico/PokeClassifier</a>"
      ],
      "text/plain": [
       "<IPython.core.display.HTML object>"
      ]
     },
     "metadata": {},
     "output_type": "display_data"
    },
    {
     "data": {
      "text/html": [
       " View run at <a href='https://wandb.ai/d-huamanor-universidad-pacifico/PokeClassifier/runs/0lqrsa17' target=\"_blank\">https://wandb.ai/d-huamanor-universidad-pacifico/PokeClassifier/runs/0lqrsa17</a>"
      ],
      "text/plain": [
       "<IPython.core.display.HTML object>"
      ]
     },
     "metadata": {},
     "output_type": "display_data"
    },
    {
     "name": "stderr",
     "output_type": "stream",
     "text": [
      "Epoch 1/50: 100%|██████████| 192/192 [00:47<00:00,  4.08it/s, loss=4.96]\n",
      "2025-07-13 12:32:29,277 - train - INFO - Epoch 1 training loss: 5.0672, training accuracy: 0.0090\n",
      "2025-07-13 12:32:31,647 - train - INFO - Validation loss after epoch 1: 5.0092, validation accuracy: 0.0073\n",
      "2025-07-13 12:32:31,790 - train - INFO - Saved checkpoint: /home/lenovo/Escritorio/repos/scratch_dl/checkpoints/Poke3/resnet50_epoch1.pth\n",
      "Epoch 2/50: 100%|██████████| 192/192 [00:46<00:00,  4.11it/s, loss=5]   \n",
      "2025-07-13 12:33:18,565 - train - INFO - Epoch 2 training loss: 4.9821, training accuracy: 0.0135\n",
      "2025-07-13 12:33:20,805 - train - INFO - Validation loss after epoch 2: 4.9829, validation accuracy: 0.0147\n",
      "2025-07-13 12:33:20,965 - train - INFO - Saved checkpoint: /home/lenovo/Escritorio/repos/scratch_dl/checkpoints/Poke3/resnet50_epoch2.pth\n",
      "Epoch 3/50: 100%|██████████| 192/192 [00:46<00:00,  4.10it/s, loss=4.95]\n",
      "2025-07-13 12:34:07,830 - train - INFO - Epoch 3 training loss: 4.9597, training accuracy: 0.0166\n",
      "2025-07-13 12:34:10,044 - train - INFO - Validation loss after epoch 3: 4.9775, validation accuracy: 0.0220\n",
      "2025-07-13 12:34:10,131 - train - INFO - Saved checkpoint: /home/lenovo/Escritorio/repos/scratch_dl/checkpoints/Poke3/resnet50_epoch3.pth\n",
      "Epoch 4/50: 100%|██████████| 192/192 [00:46<00:00,  4.10it/s, loss=4.96]\n",
      "2025-07-13 12:34:57,040 - train - INFO - Epoch 4 training loss: 4.9369, training accuracy: 0.0228\n",
      "2025-07-13 12:34:59,387 - train - INFO - Validation loss after epoch 4: 4.9488, validation accuracy: 0.0279\n",
      "2025-07-13 12:34:59,478 - train - INFO - Saved checkpoint: /home/lenovo/Escritorio/repos/scratch_dl/checkpoints/Poke3/resnet50_epoch4.pth\n",
      "Epoch 5/50: 100%|██████████| 192/192 [00:46<00:00,  4.09it/s, loss=4.9] \n",
      "2025-07-13 12:35:46,450 - train - INFO - Epoch 5 training loss: 4.9092, training accuracy: 0.0262\n",
      "2025-07-13 12:35:48,673 - train - INFO - Validation loss after epoch 5: 4.9158, validation accuracy: 0.0323\n",
      "2025-07-13 12:35:48,759 - train - INFO - Saved checkpoint: /home/lenovo/Escritorio/repos/scratch_dl/checkpoints/Poke3/resnet50_epoch5.pth\n",
      "Epoch 6/50: 100%|██████████| 192/192 [00:46<00:00,  4.10it/s, loss=4.79]\n",
      "2025-07-13 12:36:35,695 - train - INFO - Epoch 6 training loss: 4.8457, training accuracy: 0.0319\n",
      "2025-07-13 12:36:37,986 - train - INFO - Validation loss after epoch 6: 4.8059, validation accuracy: 0.0337\n",
      "2025-07-13 12:36:38,074 - train - INFO - Saved checkpoint: /home/lenovo/Escritorio/repos/scratch_dl/checkpoints/Poke3/resnet50_epoch6.pth\n",
      "Epoch 7/50: 100%|██████████| 192/192 [00:46<00:00,  4.10it/s, loss=4.8] \n",
      "2025-07-13 12:37:24,921 - train - INFO - Epoch 7 training loss: 4.6690, training accuracy: 0.0430\n",
      "2025-07-13 12:37:27,198 - train - INFO - Validation loss after epoch 7: 4.6211, validation accuracy: 0.0440\n",
      "2025-07-13 12:37:27,287 - train - INFO - Saved checkpoint: /home/lenovo/Escritorio/repos/scratch_dl/checkpoints/Poke3/resnet50_epoch7.pth\n",
      "Epoch 8/50: 100%|██████████| 192/192 [00:46<00:00,  4.10it/s, loss=4.13]\n",
      "2025-07-13 12:38:14,173 - train - INFO - Epoch 8 training loss: 4.4797, training accuracy: 0.0546\n",
      "2025-07-13 12:38:16,421 - train - INFO - Validation loss after epoch 8: 4.4399, validation accuracy: 0.0645\n",
      "2025-07-13 12:38:16,509 - train - INFO - Saved checkpoint: /home/lenovo/Escritorio/repos/scratch_dl/checkpoints/Poke3/resnet50_epoch8.pth\n",
      "Epoch 9/50: 100%|██████████| 192/192 [00:46<00:00,  4.09it/s, loss=4.31]\n",
      "2025-07-13 12:39:03,469 - train - INFO - Epoch 9 training loss: 4.3062, training accuracy: 0.0702\n",
      "2025-07-13 12:39:05,816 - train - INFO - Validation loss after epoch 9: 4.2950, validation accuracy: 0.0748\n",
      "2025-07-13 12:39:05,903 - train - INFO - Saved checkpoint: /home/lenovo/Escritorio/repos/scratch_dl/checkpoints/Poke3/resnet50_epoch9.pth\n",
      "Epoch 10/50: 100%|██████████| 192/192 [00:46<00:00,  4.10it/s, loss=3.96]\n",
      "2025-07-13 12:39:52,807 - train - INFO - Epoch 10 training loss: 4.1653, training accuracy: 0.0780\n",
      "2025-07-13 12:39:55,259 - train - INFO - Validation loss after epoch 10: 4.1639, validation accuracy: 0.0733\n",
      "2025-07-13 12:39:55,360 - train - INFO - Saved checkpoint: /home/lenovo/Escritorio/repos/scratch_dl/checkpoints/Poke3/resnet50_epoch10.pth\n",
      "Epoch 11/50: 100%|██████████| 192/192 [00:46<00:00,  4.09it/s, loss=4.01]\n",
      "2025-07-13 12:40:42,355 - train - INFO - Epoch 11 training loss: 4.0406, training accuracy: 0.0929\n",
      "2025-07-13 12:40:44,660 - train - INFO - Validation loss after epoch 11: 4.0624, validation accuracy: 0.0924\n",
      "2025-07-13 12:40:44,746 - train - INFO - Saved checkpoint: /home/lenovo/Escritorio/repos/scratch_dl/checkpoints/Poke3/resnet50_epoch11.pth\n",
      "Epoch 12/50: 100%|██████████| 192/192 [00:46<00:00,  4.09it/s, loss=3.77]\n",
      "2025-07-13 12:41:31,774 - train - INFO - Epoch 12 training loss: 3.9156, training accuracy: 0.1052\n",
      "2025-07-13 12:41:34,084 - train - INFO - Validation loss after epoch 12: 3.9312, validation accuracy: 0.1085\n",
      "2025-07-13 12:41:34,172 - train - INFO - Saved checkpoint: /home/lenovo/Escritorio/repos/scratch_dl/checkpoints/Poke3/resnet50_epoch12.pth\n",
      "Epoch 13/50: 100%|██████████| 192/192 [00:46<00:00,  4.10it/s, loss=3.81]\n",
      "2025-07-13 12:42:21,045 - train - INFO - Epoch 13 training loss: 3.8069, training accuracy: 0.1250\n",
      "2025-07-13 12:42:23,300 - train - INFO - Validation loss after epoch 13: 3.8217, validation accuracy: 0.1085\n",
      "2025-07-13 12:42:23,390 - train - INFO - Saved checkpoint: /home/lenovo/Escritorio/repos/scratch_dl/checkpoints/Poke3/resnet50_epoch13.pth\n",
      "Epoch 14/50: 100%|██████████| 192/192 [00:46<00:00,  4.10it/s, loss=3.94]\n",
      "2025-07-13 12:43:10,298 - train - INFO - Epoch 14 training loss: 3.6965, training accuracy: 0.1346\n",
      "2025-07-13 12:43:12,531 - train - INFO - Validation loss after epoch 14: 3.7043, validation accuracy: 0.1408\n",
      "2025-07-13 12:43:12,620 - train - INFO - Saved checkpoint: /home/lenovo/Escritorio/repos/scratch_dl/checkpoints/Poke3/resnet50_epoch14.pth\n",
      "Epoch 15/50: 100%|██████████| 192/192 [00:46<00:00,  4.09it/s, loss=3.51]\n",
      "2025-07-13 12:43:59,645 - train - INFO - Epoch 15 training loss: 3.6433, training accuracy: 0.1474\n",
      "2025-07-13 12:44:01,856 - train - INFO - Validation loss after epoch 15: 3.6082, validation accuracy: 0.1378\n",
      "2025-07-13 12:44:01,947 - train - INFO - Saved checkpoint: /home/lenovo/Escritorio/repos/scratch_dl/checkpoints/Poke3/resnet50_epoch15.pth\n",
      "Epoch 16/50: 100%|██████████| 192/192 [00:46<00:00,  4.09it/s, loss=3.36]\n",
      "2025-07-13 12:44:48,966 - train - INFO - Epoch 16 training loss: 3.5468, training accuracy: 0.1634\n",
      "2025-07-13 12:44:51,239 - train - INFO - Validation loss after epoch 16: 3.5708, validation accuracy: 0.1554\n",
      "2025-07-13 12:44:51,328 - train - INFO - Saved checkpoint: /home/lenovo/Escritorio/repos/scratch_dl/checkpoints/Poke3/resnet50_epoch16.pth\n",
      "Epoch 17/50: 100%|██████████| 192/192 [00:46<00:00,  4.10it/s, loss=3.46]\n",
      "2025-07-13 12:45:38,169 - train - INFO - Epoch 17 training loss: 3.4564, training accuracy: 0.1720\n",
      "2025-07-13 12:45:40,410 - train - INFO - Validation loss after epoch 17: 3.4617, validation accuracy: 0.1818\n",
      "2025-07-13 12:45:40,499 - train - INFO - Saved checkpoint: /home/lenovo/Escritorio/repos/scratch_dl/checkpoints/Poke3/resnet50_epoch17.pth\n",
      "Epoch 18/50: 100%|██████████| 192/192 [00:47<00:00,  4.08it/s, loss=3.25]\n",
      "2025-07-13 12:46:27,561 - train - INFO - Epoch 18 training loss: 3.3844, training accuracy: 0.1875\n",
      "2025-07-13 12:46:29,854 - train - INFO - Validation loss after epoch 18: 3.3949, validation accuracy: 0.1789\n",
      "2025-07-13 12:46:29,971 - train - INFO - Saved checkpoint: /home/lenovo/Escritorio/repos/scratch_dl/checkpoints/Poke3/resnet50_epoch18.pth\n",
      "Epoch 19/50: 100%|██████████| 192/192 [00:46<00:00,  4.09it/s, loss=3.46]\n",
      "2025-07-13 12:47:17,025 - train - INFO - Epoch 19 training loss: 3.3234, training accuracy: 0.2045\n",
      "2025-07-13 12:47:19,349 - train - INFO - Validation loss after epoch 19: 3.3132, validation accuracy: 0.2053\n",
      "2025-07-13 12:47:19,456 - train - INFO - Saved checkpoint: /home/lenovo/Escritorio/repos/scratch_dl/checkpoints/Poke3/resnet50_epoch19.pth\n",
      "Epoch 20/50: 100%|██████████| 192/192 [00:46<00:00,  4.09it/s, loss=3.63]\n",
      "2025-07-13 12:48:06,474 - train - INFO - Epoch 20 training loss: 3.2483, training accuracy: 0.2196\n",
      "2025-07-13 12:48:08,790 - train - INFO - Validation loss after epoch 20: 3.2212, validation accuracy: 0.2199\n",
      "2025-07-13 12:48:08,903 - train - INFO - Saved checkpoint: /home/lenovo/Escritorio/repos/scratch_dl/checkpoints/Poke3/resnet50_epoch20.pth\n",
      "Epoch 21/50: 100%|██████████| 192/192 [00:47<00:00,  4.08it/s, loss=2.98]\n",
      "2025-07-13 12:48:55,986 - train - INFO - Epoch 21 training loss: 3.1690, training accuracy: 0.2326\n",
      "2025-07-13 12:48:58,194 - train - INFO - Validation loss after epoch 21: 3.1784, validation accuracy: 0.2581\n",
      "2025-07-13 12:48:58,284 - train - INFO - Saved checkpoint: /home/lenovo/Escritorio/repos/scratch_dl/checkpoints/Poke3/resnet50_epoch21.pth\n",
      "Epoch 22/50: 100%|██████████| 192/192 [00:47<00:00,  4.08it/s, loss=2.35]\n",
      "2025-07-13 12:49:45,427 - train - INFO - Epoch 22 training loss: 3.1179, training accuracy: 0.2445\n",
      "2025-07-13 12:49:47,839 - train - INFO - Validation loss after epoch 22: 3.1070, validation accuracy: 0.2361\n",
      "2025-07-13 12:49:47,937 - train - INFO - Saved checkpoint: /home/lenovo/Escritorio/repos/scratch_dl/checkpoints/Poke3/resnet50_epoch22.pth\n",
      "Epoch 23/50: 100%|██████████| 192/192 [00:46<00:00,  4.09it/s, loss=2.69]\n",
      "2025-07-13 12:50:34,990 - train - INFO - Epoch 23 training loss: 3.0537, training accuracy: 0.2592\n",
      "2025-07-13 12:50:37,246 - train - INFO - Validation loss after epoch 23: 3.0337, validation accuracy: 0.2507\n",
      "2025-07-13 12:50:37,345 - train - INFO - Saved checkpoint: /home/lenovo/Escritorio/repos/scratch_dl/checkpoints/Poke3/resnet50_epoch23.pth\n",
      "Epoch 24/50: 100%|██████████| 192/192 [00:46<00:00,  4.10it/s, loss=2.74]\n",
      "2025-07-13 12:51:24,224 - train - INFO - Epoch 24 training loss: 2.9976, training accuracy: 0.2770\n",
      "2025-07-13 12:51:26,457 - train - INFO - Validation loss after epoch 24: 2.9520, validation accuracy: 0.2845\n",
      "2025-07-13 12:51:26,544 - train - INFO - Saved checkpoint: /home/lenovo/Escritorio/repos/scratch_dl/checkpoints/Poke3/resnet50_epoch24.pth\n",
      "Epoch 25/50: 100%|██████████| 192/192 [00:46<00:00,  4.09it/s, loss=2.93]\n",
      "2025-07-13 12:52:13,523 - train - INFO - Epoch 25 training loss: 2.9107, training accuracy: 0.2893\n",
      "2025-07-13 12:52:15,863 - train - INFO - Validation loss after epoch 25: 2.9046, validation accuracy: 0.2830\n",
      "2025-07-13 12:52:15,953 - train - INFO - Saved checkpoint: /home/lenovo/Escritorio/repos/scratch_dl/checkpoints/Poke3/resnet50_epoch25.pth\n",
      "Epoch 26/50: 100%|██████████| 192/192 [00:46<00:00,  4.09it/s, loss=3.04]\n",
      "2025-07-13 12:53:02,918 - train - INFO - Epoch 26 training loss: 2.8502, training accuracy: 0.2999\n",
      "2025-07-13 12:53:05,204 - train - INFO - Validation loss after epoch 26: 2.8507, validation accuracy: 0.3021\n",
      "2025-07-13 12:53:05,289 - train - INFO - Saved checkpoint: /home/lenovo/Escritorio/repos/scratch_dl/checkpoints/Poke3/resnet50_epoch26.pth\n",
      "Epoch 27/50: 100%|██████████| 192/192 [00:46<00:00,  4.09it/s, loss=2.8] \n",
      "2025-07-13 12:53:52,292 - train - INFO - Epoch 27 training loss: 2.8107, training accuracy: 0.3193\n",
      "2025-07-13 12:53:54,524 - train - INFO - Validation loss after epoch 27: 2.8060, validation accuracy: 0.3094\n",
      "2025-07-13 12:53:54,614 - train - INFO - Saved checkpoint: /home/lenovo/Escritorio/repos/scratch_dl/checkpoints/Poke3/resnet50_epoch27.pth\n",
      "Epoch 28/50: 100%|██████████| 192/192 [00:46<00:00,  4.09it/s, loss=3.27]\n",
      "2025-07-13 12:54:41,647 - train - INFO - Epoch 28 training loss: 2.7621, training accuracy: 0.3312\n",
      "2025-07-13 12:54:43,986 - train - INFO - Validation loss after epoch 28: 2.7490, validation accuracy: 0.3167\n",
      "2025-07-13 12:54:44,080 - train - INFO - Saved checkpoint: /home/lenovo/Escritorio/repos/scratch_dl/checkpoints/Poke3/resnet50_epoch28.pth\n",
      "Epoch 29/50: 100%|██████████| 192/192 [00:46<00:00,  4.09it/s, loss=2.3] \n",
      "2025-07-13 12:55:31,121 - train - INFO - Epoch 29 training loss: 2.6966, training accuracy: 0.3322\n",
      "2025-07-13 12:55:33,484 - train - INFO - Validation loss after epoch 29: 2.7195, validation accuracy: 0.3314\n",
      "2025-07-13 12:55:33,577 - train - INFO - Saved checkpoint: /home/lenovo/Escritorio/repos/scratch_dl/checkpoints/Poke3/resnet50_epoch29.pth\n",
      "Epoch 30/50: 100%|██████████| 192/192 [00:47<00:00,  4.08it/s, loss=2.56]\n",
      "2025-07-13 12:56:20,734 - train - INFO - Epoch 30 training loss: 2.6249, training accuracy: 0.3483\n",
      "2025-07-13 12:56:23,023 - train - INFO - Validation loss after epoch 30: 2.6280, validation accuracy: 0.3548\n",
      "2025-07-13 12:56:23,117 - train - INFO - Saved checkpoint: /home/lenovo/Escritorio/repos/scratch_dl/checkpoints/Poke3/resnet50_epoch30.pth\n",
      "Epoch 31/50: 100%|██████████| 192/192 [00:47<00:00,  4.07it/s, loss=2.23]\n",
      "2025-07-13 12:57:10,324 - train - INFO - Epoch 31 training loss: 2.5700, training accuracy: 0.3690\n",
      "2025-07-13 12:57:12,631 - train - INFO - Validation loss after epoch 31: 2.5474, validation accuracy: 0.3695\n",
      "2025-07-13 12:57:12,720 - train - INFO - Saved checkpoint: /home/lenovo/Escritorio/repos/scratch_dl/checkpoints/Poke3/resnet50_epoch31.pth\n",
      "Epoch 32/50: 100%|██████████| 192/192 [00:46<00:00,  4.09it/s, loss=2.86]\n",
      "2025-07-13 12:57:59,747 - train - INFO - Epoch 32 training loss: 2.5266, training accuracy: 0.3729\n",
      "2025-07-13 12:58:02,089 - train - INFO - Validation loss after epoch 32: 2.5442, validation accuracy: 0.3666\n",
      "2025-07-13 12:58:02,183 - train - INFO - Saved checkpoint: /home/lenovo/Escritorio/repos/scratch_dl/checkpoints/Poke3/resnet50_epoch32.pth\n",
      "Epoch 33/50: 100%|██████████| 192/192 [00:47<00:00,  4.08it/s, loss=2.66]\n",
      "2025-07-13 12:58:49,246 - train - INFO - Epoch 33 training loss: 2.4942, training accuracy: 0.3772\n",
      "2025-07-13 12:58:51,487 - train - INFO - Validation loss after epoch 33: 2.5173, validation accuracy: 0.3710\n",
      "2025-07-13 12:58:51,575 - train - INFO - Saved checkpoint: /home/lenovo/Escritorio/repos/scratch_dl/checkpoints/Poke3/resnet50_epoch33.pth\n",
      "Epoch 34/50: 100%|██████████| 192/192 [00:46<00:00,  4.09it/s, loss=3.1] \n",
      "2025-07-13 12:59:38,607 - train - INFO - Epoch 34 training loss: 2.4358, training accuracy: 0.3977\n",
      "2025-07-13 12:59:40,847 - train - INFO - Validation loss after epoch 34: 2.4521, validation accuracy: 0.3944\n",
      "2025-07-13 12:59:40,934 - train - INFO - Saved checkpoint: /home/lenovo/Escritorio/repos/scratch_dl/checkpoints/Poke3/resnet50_epoch34.pth\n",
      "Epoch 35/50: 100%|██████████| 192/192 [00:46<00:00,  4.09it/s, loss=2.14]\n",
      "2025-07-13 13:00:27,881 - train - INFO - Epoch 35 training loss: 2.3547, training accuracy: 0.4231\n",
      "2025-07-13 13:00:30,120 - train - INFO - Validation loss after epoch 35: 2.4381, validation accuracy: 0.3886\n",
      "2025-07-13 13:00:30,208 - train - INFO - Saved checkpoint: /home/lenovo/Escritorio/repos/scratch_dl/checkpoints/Poke3/resnet50_epoch35.pth\n",
      "Epoch 36/50: 100%|██████████| 192/192 [00:46<00:00,  4.09it/s, loss=2.08]\n",
      "2025-07-13 13:01:17,184 - train - INFO - Epoch 36 training loss: 2.3090, training accuracy: 0.4275\n",
      "2025-07-13 13:01:19,435 - train - INFO - Validation loss after epoch 36: 2.3572, validation accuracy: 0.4135\n",
      "2025-07-13 13:01:19,523 - train - INFO - Saved checkpoint: /home/lenovo/Escritorio/repos/scratch_dl/checkpoints/Poke3/resnet50_epoch36.pth\n",
      "Epoch 37/50: 100%|██████████| 192/192 [00:47<00:00,  4.08it/s, loss=2.44]\n",
      "2025-07-13 13:02:06,627 - train - INFO - Epoch 37 training loss: 2.2376, training accuracy: 0.4335\n",
      "2025-07-13 13:02:08,947 - train - INFO - Validation loss after epoch 37: 2.3990, validation accuracy: 0.3666\n",
      "2025-07-13 13:02:09,034 - train - INFO - Saved checkpoint: /home/lenovo/Escritorio/repos/scratch_dl/checkpoints/Poke3/resnet50_epoch37.pth\n",
      "Epoch 38/50: 100%|██████████| 192/192 [00:47<00:00,  4.08it/s, loss=2.27]\n",
      "2025-07-13 13:02:56,104 - train - INFO - Epoch 38 training loss: 2.1981, training accuracy: 0.4456\n",
      "2025-07-13 13:02:58,463 - train - INFO - Validation loss after epoch 38: 2.3252, validation accuracy: 0.4032\n",
      "2025-07-13 13:02:58,550 - train - INFO - Saved checkpoint: /home/lenovo/Escritorio/repos/scratch_dl/checkpoints/Poke3/resnet50_epoch38.pth\n",
      "Epoch 39/50: 100%|██████████| 192/192 [00:46<00:00,  4.09it/s, loss=2.5] \n",
      "2025-07-13 13:03:45,539 - train - INFO - Epoch 39 training loss: 2.1299, training accuracy: 0.4666\n",
      "2025-07-13 13:03:47,820 - train - INFO - Validation loss after epoch 39: 2.2440, validation accuracy: 0.4340\n",
      "2025-07-13 13:03:47,907 - train - INFO - Saved checkpoint: /home/lenovo/Escritorio/repos/scratch_dl/checkpoints/Poke3/resnet50_epoch39.pth\n",
      "Epoch 40/50: 100%|██████████| 192/192 [00:46<00:00,  4.09it/s, loss=2.4] \n",
      "2025-07-13 13:04:34,892 - train - INFO - Epoch 40 training loss: 2.1017, training accuracy: 0.4656\n",
      "2025-07-13 13:04:37,266 - train - INFO - Validation loss after epoch 40: 2.1793, validation accuracy: 0.4487\n",
      "2025-07-13 13:04:37,371 - train - INFO - Saved checkpoint: /home/lenovo/Escritorio/repos/scratch_dl/checkpoints/Poke3/resnet50_epoch40.pth\n",
      "Epoch 41/50: 100%|██████████| 192/192 [00:47<00:00,  4.08it/s, loss=2.43]\n",
      "2025-07-13 13:05:24,497 - train - INFO - Epoch 41 training loss: 2.0730, training accuracy: 0.4738\n",
      "2025-07-13 13:05:26,761 - train - INFO - Validation loss after epoch 41: 2.1972, validation accuracy: 0.4501\n",
      "2025-07-13 13:05:26,848 - train - INFO - Saved checkpoint: /home/lenovo/Escritorio/repos/scratch_dl/checkpoints/Poke3/resnet50_epoch41.pth\n",
      "Epoch 42/50: 100%|██████████| 192/192 [00:47<00:00,  4.08it/s, loss=1.67]\n",
      "2025-07-13 13:06:13,977 - train - INFO - Epoch 42 training loss: 2.0111, training accuracy: 0.4868\n",
      "2025-07-13 13:06:16,310 - train - INFO - Validation loss after epoch 42: 2.1176, validation accuracy: 0.4648\n",
      "2025-07-13 13:06:16,409 - train - INFO - Saved checkpoint: /home/lenovo/Escritorio/repos/scratch_dl/checkpoints/Poke3/resnet50_epoch42.pth\n",
      "Epoch 43/50: 100%|██████████| 192/192 [00:47<00:00,  4.07it/s, loss=1.87]\n",
      "2025-07-13 13:07:03,621 - train - INFO - Epoch 43 training loss: 1.9550, training accuracy: 0.5002\n",
      "2025-07-13 13:07:05,932 - train - INFO - Validation loss after epoch 43: 2.0644, validation accuracy: 0.4663\n",
      "2025-07-13 13:07:06,020 - train - INFO - Saved checkpoint: /home/lenovo/Escritorio/repos/scratch_dl/checkpoints/Poke3/resnet50_epoch43.pth\n",
      "Epoch 44/50: 100%|██████████| 192/192 [00:47<00:00,  4.08it/s, loss=1.91]\n",
      "2025-07-13 13:07:53,133 - train - INFO - Epoch 44 training loss: 1.9093, training accuracy: 0.5103\n",
      "2025-07-13 13:07:55,385 - train - INFO - Validation loss after epoch 44: 2.0767, validation accuracy: 0.4853\n",
      "2025-07-13 13:07:55,475 - train - INFO - Saved checkpoint: /home/lenovo/Escritorio/repos/scratch_dl/checkpoints/Poke3/resnet50_epoch44.pth\n",
      "Epoch 45/50: 100%|██████████| 192/192 [00:47<00:00,  4.08it/s, loss=2.23]\n",
      "2025-07-13 13:08:42,551 - train - INFO - Epoch 45 training loss: 1.8692, training accuracy: 0.5283\n",
      "2025-07-13 13:08:44,840 - train - INFO - Validation loss after epoch 45: 1.9863, validation accuracy: 0.4853\n",
      "2025-07-13 13:08:44,932 - train - INFO - Saved checkpoint: /home/lenovo/Escritorio/repos/scratch_dl/checkpoints/Poke3/resnet50_epoch45.pth\n",
      "Epoch 46/50: 100%|██████████| 192/192 [00:46<00:00,  4.09it/s, loss=1.85]\n",
      "2025-07-13 13:09:31,904 - train - INFO - Epoch 46 training loss: 1.8154, training accuracy: 0.5342\n",
      "2025-07-13 13:09:34,204 - train - INFO - Validation loss after epoch 46: 1.9801, validation accuracy: 0.4941\n",
      "2025-07-13 13:09:34,295 - train - INFO - Saved checkpoint: /home/lenovo/Escritorio/repos/scratch_dl/checkpoints/Poke3/resnet50_epoch46.pth\n",
      "Epoch 47/50: 100%|██████████| 192/192 [00:46<00:00,  4.09it/s, loss=1.96]\n",
      "2025-07-13 13:10:21,297 - train - INFO - Epoch 47 training loss: 1.7829, training accuracy: 0.5446\n",
      "2025-07-13 13:10:23,641 - train - INFO - Validation loss after epoch 47: 1.9813, validation accuracy: 0.5073\n",
      "2025-07-13 13:10:23,736 - train - INFO - Saved checkpoint: /home/lenovo/Escritorio/repos/scratch_dl/checkpoints/Poke3/resnet50_epoch47.pth\n",
      "Epoch 48/50: 100%|██████████| 192/192 [00:47<00:00,  4.07it/s, loss=2.11]\n",
      "2025-07-13 13:11:10,910 - train - INFO - Epoch 48 training loss: 1.7688, training accuracy: 0.5502\n",
      "2025-07-13 13:11:13,165 - train - INFO - Validation loss after epoch 48: 1.9191, validation accuracy: 0.5044\n",
      "2025-07-13 13:11:13,256 - train - INFO - Saved checkpoint: /home/lenovo/Escritorio/repos/scratch_dl/checkpoints/Poke3/resnet50_epoch48.pth\n",
      "Epoch 49/50: 100%|██████████| 192/192 [00:46<00:00,  4.09it/s, loss=1.86]\n",
      "2025-07-13 13:12:00,283 - train - INFO - Epoch 49 training loss: 1.6939, training accuracy: 0.5759\n",
      "2025-07-13 13:12:02,584 - train - INFO - Validation loss after epoch 49: 1.8622, validation accuracy: 0.5088\n",
      "2025-07-13 13:12:02,672 - train - INFO - Saved checkpoint: /home/lenovo/Escritorio/repos/scratch_dl/checkpoints/Poke3/resnet50_epoch49.pth\n",
      "Epoch 50/50: 100%|██████████| 192/192 [00:47<00:00,  4.07it/s, loss=1.63]\n",
      "2025-07-13 13:12:49,868 - train - INFO - Epoch 50 training loss: 1.6835, training accuracy: 0.5663\n",
      "2025-07-13 13:12:52,117 - train - INFO - Validation loss after epoch 50: 1.8576, validation accuracy: 0.5205\n",
      "2025-07-13 13:12:52,205 - train - INFO - Saved checkpoint: /home/lenovo/Escritorio/repos/scratch_dl/checkpoints/Poke3/final_weights.pth\n"
     ]
    }
   ],
   "source": [
    "\n",
    "cfg.model_name = \"resnet50\"\n",
    "cfg.epochs = 50\n",
    "cfg.checkpoint_dir = \"Poke3\"\n",
    "train_resnet(cfg)"
   ]
  },
  {
   "cell_type": "code",
   "execution_count": 12,
   "id": "cfdbe9b6",
   "metadata": {},
   "outputs": [],
   "source": [
    "from PIL import Image\n",
    "\n",
    "transf = cfg.transform_test\n",
    "\n",
    "img = Image.open('pikachu.png')\n",
    "img.convert('RGB')\n",
    "img = transf(img)\n",
    "img = img.unsqueeze(0)\n"
   ]
  },
  {
   "cell_type": "code",
   "execution_count": 13,
   "id": "99578673",
   "metadata": {},
   "outputs": [
    {
     "data": {
      "text/plain": [
       "64"
      ]
     },
     "execution_count": 13,
     "metadata": {},
     "output_type": "execute_result"
    }
   ],
   "source": [
    "model.eval()\n",
    "with torch.no_grad():\n",
    "    out = model(img)\n",
    "probs = torch.softmax(out, dim=1)\n",
    "pred = torch.argmax(probs, dim=1).item()\n",
    "pred"
   ]
  },
  {
   "cell_type": "code",
   "execution_count": null,
   "id": "83fed351",
   "metadata": {},
   "outputs": [],
   "source": []
  },
  {
   "cell_type": "code",
   "execution_count": 9,
   "id": "743e0983",
   "metadata": {},
   "outputs": [],
   "source": [
    "from torchvision.datasets import ImageFolder\n",
    "ds_path=os.path.join(cfg.ROOT_DIR, 'data', 'PokemonData')\n",
    "ds = ImageFolder(ds_path)\n",
    "\n",
    "classes = {idx: k for k, idx in ds.class_to_idx.items()}"
   ]
  },
  {
   "cell_type": "code",
   "execution_count": 10,
   "id": "f3e3fe16",
   "metadata": {},
   "outputs": [
    {
     "data": {
      "text/plain": [
       "'Kakuna'"
      ]
     },
     "execution_count": 10,
     "metadata": {},
     "output_type": "execute_result"
    }
   ],
   "source": [
    "classes[pred]"
   ]
  }
 ],
 "metadata": {
  "kernelspec": {
   "display_name": "base",
   "language": "python",
   "name": "python3"
  },
  "language_info": {
   "codemirror_mode": {
    "name": "ipython",
    "version": 3
   },
   "file_extension": ".py",
   "mimetype": "text/x-python",
   "name": "python",
   "nbconvert_exporter": "python",
   "pygments_lexer": "ipython3",
   "version": "3.12.7"
  }
 },
 "nbformat": 4,
 "nbformat_minor": 5
}
